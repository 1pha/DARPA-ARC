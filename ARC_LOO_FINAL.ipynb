{
 "cells": [
  {
   "cell_type": "markdown",
   "metadata": {},
   "source": [
    "# Model: Non-Hierarchical - Additive"
   ]
  },
  {
   "cell_type": "code",
   "execution_count": 1,
   "metadata": {
    "collapsed": false
   },
   "outputs": [
    {
     "name": "stderr",
     "output_type": "stream",
     "text": [
      "This is loo version 0.1.6\n"
     ]
    },
    {
     "name": "stdout",
     "output_type": "stream",
     "text": [
      "[1] \"Model: Non-Hierarchical, Additive\"\n",
      "Computed from 1000 by 2978 log-likelihood matrix\n",
      "\n",
      "          Estimate   SE\n",
      "elpd_waic  -1305.8 31.4\n",
      "p_waic         3.1  0.1\n",
      "waic        2611.7 62.9\n",
      "Computed from 1000 by 2978 log-likelihood matrix\n",
      "\n",
      "         Estimate   SE\n",
      "elpd_loo  -1305.8 31.4\n",
      "p_loo         3.1  0.1\n",
      "looic      2611.7 62.9\n",
      "\n",
      "All Pareto k estimates OK (k < 0.5)\n"
     ]
    }
   ],
   "source": [
    "library('loo')\n",
    "print('Model: Non-Hierarchical, Additive')\n",
    "\n",
    "## Load data.\n",
    "loglike = as.matrix(read.table('results/arc_non-hierarchical_add_FINAL_loglik.txt', sep=\" \"))\n",
    "print(waic(loglike))\n",
    "print(loo(loglike))"
   ]
  },
  {
   "cell_type": "markdown",
   "metadata": {},
   "source": [
    "# Model: Hierarchical - Additive"
   ]
  },
  {
   "cell_type": "code",
   "execution_count": 2,
   "metadata": {
    "collapsed": false
   },
   "outputs": [
    {
     "name": "stdout",
     "output_type": "stream",
     "text": [
      "[1] \"Model: Hierarchical, Additive\"\n",
      "Computed from 1000 by 2978 log-likelihood matrix\n",
      "\n",
      "          Estimate   SE\n",
      "elpd_waic   -659.3 27.0\n",
      "p_waic        51.9  3.2\n",
      "waic        1318.6 53.9\n"
     ]
    },
    {
     "name": "stderr",
     "output_type": "stream",
     "text": [
      "Warning message:\n",
      ": 15 (0.5%) p_waic estimates greater than 0.4.\n",
      "We recommend trying loo() instead."
     ]
    },
    {
     "name": "stdout",
     "output_type": "stream",
     "text": [
      "Computed from 1000 by 2978 log-likelihood matrix\n",
      "\n",
      "         Estimate   SE\n",
      "elpd_loo   -659.7 27.0\n",
      "p_loo        52.4  3.3\n",
      "looic      1319.4 54.0\n"
     ]
    },
    {
     "name": "stderr",
     "output_type": "stream",
     "text": [
      "Warning message:\n",
      ": 133 (4.5%) Pareto k estimates between 0.5 and 1Warning message:\n",
      ": See PSIS-LOO description (?'loo-package') for more information"
     ]
    }
   ],
   "source": [
    "library('loo')\n",
    "print('Model: Hierarchical, Additive')\n",
    "\n",
    "## Load data.\n",
    "loglike = as.matrix(read.table('results/arc_hierarchical_add_FINAL_loglik.txt', sep=\" \"))\n",
    "print(waic(loglike))\n",
    "print(loo(loglike))"
   ]
  },
  {
   "cell_type": "markdown",
   "metadata": {},
   "source": [
    "# Model: Hierarchical - Multiplicative"
   ]
  },
  {
   "cell_type": "code",
   "execution_count": 3,
   "metadata": {
    "collapsed": false
   },
   "outputs": [
    {
     "name": "stdout",
     "output_type": "stream",
     "text": [
      "[1] \"Model: Hierarchical, Multiple\"\n",
      "Computed from 1000 by 2978 log-likelihood matrix\n",
      "\n",
      "          Estimate   SE\n",
      "elpd_waic   -661.3 27.5\n",
      "p_waic        59.8  4.0\n",
      "waic        1322.6 54.9\n"
     ]
    },
    {
     "name": "stderr",
     "output_type": "stream",
     "text": [
      "Warning message:\n",
      ": 19 (0.6%) p_waic estimates greater than 0.4.\n",
      "We recommend trying loo() instead."
     ]
    },
    {
     "name": "stdout",
     "output_type": "stream",
     "text": [
      "Computed from 1000 by 2978 log-likelihood matrix\n",
      "\n",
      "         Estimate   SE\n",
      "elpd_loo   -662.0 27.5\n",
      "p_loo        60.5  4.1\n",
      "looic      1324.0 55.1\n"
     ]
    },
    {
     "name": "stderr",
     "output_type": "stream",
     "text": [
      "Warning message:\n",
      ": 210 (7.1%) Pareto k estimates between 0.5 and 1Warning message:\n",
      ": 11 (0.4%) Pareto k estimates greater than 1Warning message:\n",
      ": See PSIS-LOO description (?'loo-package') for more information"
     ]
    }
   ],
   "source": [
    "library('loo')\n",
    "print('Model: Hierarchical, Multiple')\n",
    "\n",
    "## Load data.\n",
    "loglike = as.matrix(read.table('results/arc_hierarchical_mult_FINAL_loglik.txt', sep=\" \"))\n",
    "print(waic(loglike))\n",
    "print(loo(loglike))"
   ]
  }
 ],
 "metadata": {
  "kernelspec": {
   "display_name": "R",
   "language": "R",
   "name": "ir"
  },
  "language_info": {
   "codemirror_mode": "r",
   "file_extension": ".r",
   "mimetype": "text/x-r-source",
   "name": "R",
   "pygments_lexer": "r",
   "version": "3.2.2"
  },
  "nav_menu": {},
  "toc": {
   "navigate_menu": true,
   "number_sections": false,
   "sideBar": true,
   "threshold": 6,
   "toc_cell": false,
   "toc_section_display": "block",
   "toc_window_display": true
  }
 },
 "nbformat": 4,
 "nbformat_minor": 0
}
