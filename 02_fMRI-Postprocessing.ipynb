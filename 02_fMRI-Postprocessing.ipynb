{
 "cells": [
  {
   "cell_type": "markdown",
   "metadata": {},
   "source": [
    "# DARPA-ARC Notebook 2: fMRI Postprocessing"
   ]
  },
  {
   "cell_type": "markdown",
   "metadata": {},
   "source": [
    "## Compute Motion Summary Statistics of and Visualize Motion"
   ]
  },
  {
   "cell_type": "code",
   "execution_count": 1,
   "metadata": {
    "ExecuteTime": {
     "end_time": "2019-04-17T13:55:01.576217Z",
     "start_time": "2019-04-17T13:54:58.750876Z"
    },
    "scrolled": false
   },
   "outputs": [
    {
     "name": "stderr",
     "output_type": "stream",
     "text": [
      "/autofs/space/karima_001/users/alex/software/anaconda3/lib/python3.6/site-packages/ipykernel_launcher.py:106: RuntimeWarning: invalid value encountered in double_scalars\n",
      "/autofs/space/karima_001/users/alex/software/anaconda3/lib/python3.6/site-packages/ipykernel_launcher.py:107: RuntimeWarning: invalid value encountered in double_scalars\n"
     ]
    },
    {
     "name": "stdout",
     "output_type": "stream",
     "text": [
      "Done.\n"
     ]
    }
   ],
   "source": [
    "from my_settings import (os, op, np, read_csv, version, root_dir, mri_dir, \n",
    "                         behavior_dir, task, subjects, thresholds, paradigm, \n",
    "                         fd, tr, session, modality, plt, DataFrame)\n",
    "from collections import defaultdict\n",
    "\n",
    "def demean(arr): return arr - arr.mean()\n",
    "\n",
    "#~~~~~~~~~~~~~~~~~~~~~~~~~~~~~~~~~~~~~~~~~~~~~~~~#\n",
    "### Main loop.\n",
    "#~~~~~~~~~~~~~~~~~~~~~~~~~~~~~~~~~~~~~~~~~~~~~~~~#\n",
    "\n",
    "stats = defaultdict(list)\n",
    "\n",
    "for subject in subjects:\n",
    "    #\n",
    "    #~~~~~~~~~~~~~~~~~~~~~~~~~~~~~~~~~~~~~~~~~~~~~~~~#\n",
    "    ### Load and prepare MRI data.\n",
    "    #~~~~~~~~~~~~~~~~~~~~~~~~~~~~~~~~~~~~~~~~~~~~~~~~#\n",
    "    #\n",
    "    ## Load gray/white matter timeseries.\n",
    "    npz = np.load(op.join(root_dir, 'fmri_motion/%s_%s_qc_data.npz' % (subject, task)))\n",
    "    gm = np.apply_along_axis(demean, 1, npz['gm'])\n",
    "    wm = np.apply_along_axis(demean, 1, npz['wm'])\n",
    "    #\n",
    "    ''' A NOTE ON MOTION DATA.\n",
    "    1) Understanding Freesurfer motion outputs: https://mail.nmr.mgh.harvard.edu/pipermail//freesurfer/2013-May/030273.html\n",
    "    2) Understanding angular displacement: https://en.wikipedia.org/wiki/Angular_displacement\n",
    "    3) Understanding framewise displacement: See Power 2012, 2014\n",
    "    '''\n",
    "    #\n",
    "    ## Read motion data.\n",
    "    mc = os.path.join(mri_dir, subject, '%s_%03d' % (task, session), '%03d' % session, 'fmcpr.mcdat')\n",
    "    mc = np.loadtxt(mc)[:,1:7]\n",
    "    #\n",
    "    ## Invert angular displacement.\n",
    "    mc[:,:3] = np.deg2rad(mc[:,:3]) # Convert degrees to radians\n",
    "    mc[:,:3] *= 50                  # Convert radians to mm [Following Power 2012, we assume a head ~ sphere w/ r=50mm]\n",
    "    #\n",
    "    ## Compute framewise displacement (See Power 2012, 2014).\n",
    "    this_fd = np.insert( np.abs( np.diff(mc, axis=0) ).sum(axis=1), 0, 0 )\n",
    "    #\n",
    "    ## Compute absolute displacement. \n",
    "    rot = ( np.abs( mc - mc[0] )[:,:3] ).sum(axis=1)\n",
    "    trans = ( np.abs( mc - mc[0] )[:,3:] ).sum(axis=1)\n",
    "    #\n",
    "    ## Compute volumes to remove.\n",
    "    rejections = np.zeros_like(thresholds)\n",
    "    for n, threshold in enumerate(thresholds): rejections[n] += (this_fd >= threshold).sum()\n",
    "    #\n",
    "    #~~~~~~~~~~~~~~~~~~~~~~~~~~~~~~~~~~~~~~~~~~~~~~~~#\n",
    "    ### Load and prepare behavior data.\n",
    "    #~~~~~~~~~~~~~~~~~~~~~~~~~~~~~~~~~~~~~~~~~~~~~~~~#\n",
    "    #\n",
    "    ## Load behavior CSV.\n",
    "    df = read_csv(op.join(behavior_dir, '%s_%s_%s_%s-%i' % (subject, task, modality, paradigm, session)))\n",
    "    #\n",
    "    ## Create onsets of each TR.\n",
    "    onsets = np.cumsum( np.ones_like(this_fd) * tr )\n",
    "    onsets = np.insert(onsets, 0, 0)\n",
    "    #\n",
    "    ## Define onsets/offsets of trials & shocks.\n",
    "    trial_starts = df.RiskOnset.values\n",
    "    trial_ends = np.append(df.FixOnset[1:], trial_starts[-1] + 5.25)\n",
    "    shock_starts = df.ShockOnset[~df.ShockOnset.isnull()].values\n",
    "    shock_ends = np.array([trial_ends[np.argmin((trial_ends - s)**2)] for s in shock_starts])\n",
    "    #\n",
    "    ## Digitize onsets/offsets.\n",
    "    trial_starts = np.digitize(trial_starts, onsets)\n",
    "    trial_ends = np.digitize(trial_ends, onsets)\n",
    "    shock_starts = np.digitize(shock_starts, onsets)\n",
    "    shock_ends = np.digitize(shock_ends, onsets)\n",
    "    #\n",
    "    ## Make boxcars for plotting.\n",
    "    trials = np.zeros_like(this_fd)\n",
    "    for i,j in zip(trial_starts, trial_ends): trials[i:j+1] += 1 \n",
    "    #   \n",
    "    shocks = np.zeros_like(this_fd)\n",
    "    for i,j in zip(shock_starts, shock_ends): shocks[i:j+1] += 1 \n",
    "    #\n",
    "    #~~~~~~~~~~~~~~~~~~~~~~~~~~~~~~~~~~~~~~~~~~~~~~~~#\n",
    "    ### Calculate summary statistics.\n",
    "    #~~~~~~~~~~~~~~~~~~~~~~~~~~~~~~~~~~~~~~~~~~~~~~~~#\n",
    "    #\n",
    "    stats['Subject'] += [subject]\n",
    "    #\n",
    "    ## Add motion information.\n",
    "    stats['Abs_Disp_Rot']   += [rot.max()]\n",
    "    stats['Abs_Disp_Trans'] += [trans.max()]\n",
    "    stats['FD_mean'] += [this_fd.mean()]\n",
    "    stats['FD_sd']   += [this_fd.std()]\n",
    "    stats['FD_max']  += [this_fd.max()]\n",
    "    #\n",
    "    ## Calculate number of rejections.\n",
    "    fd_index, = np.where(this_fd >= fd)\n",
    "    n_reject = len(fd_index)\n",
    "    stats['FD_reject'] += [n_reject]\n",
    "    #\n",
    "    ## Calculate fraction of rejected displacements across all \n",
    "    ## instances of a portion of the run.\n",
    "    stats['FD_frac_task']  += [((trials) * (this_fd >= fd)).mean()]\n",
    "    stats['FD_frac_rest']  += [((1 - trials) * (this_fd >= fd)).mean()]\n",
    "    stats['FD_frac_shock'] += [((shocks) * (this_fd >= fd)).mean()]\n",
    "    #\n",
    "    ## Calculate percentages of rejection displacesments\n",
    "    ## within given categories (non-shock task, shock, rest)\n",
    "    stats['FD_perc_rest']    += [(1-trials)[fd_index].sum() / float(n_reject) ]\n",
    "    stats['FD_perc_shock']   += [shocks[fd_index].sum() / float(n_reject) ]\n",
    "    stats['FD_perc_task_ns'] += [1 - stats['FD_perc_rest'][-1] - stats['FD_perc_shock'][-1]]\n",
    "    #\n",
    "#~~~~~~~~~~~~~~~~~~~~~~~~~~~~~~~~~~~~~~~~~~~~~~~~#\n",
    "### Save summary statistics.\n",
    "#~~~~~~~~~~~~~~~~~~~~~~~~~~~~~~~~~~~~~~~~~~~~~~~~#\n",
    "#    \n",
    "stats = DataFrame(stats)\n",
    "stats = stats[['Subject', 'Abs_Disp_Rot', 'Abs_Disp_Trans', 'FD_mean', 'FD_sd', 'FD_max',\n",
    "               'FD_reject', 'FD_frac_task', 'FD_frac_shock', 'FD_frac_rest',\n",
    "               'FD_perc_task_ns',  'FD_perc_shock', 'FD_perc_rest']]\n",
    "stats.to_csv(op.join(root_dir, 'fmri_motion/motion_stats.csv'), index=False)\n",
    "\n",
    "print('Done.')"
   ]
  }
 ],
 "metadata": {
  "kernelspec": {
   "display_name": "Python 3",
   "language": "python",
   "name": "python3"
  },
  "language_info": {
   "codemirror_mode": {
    "name": "ipython",
    "version": 3
   },
   "file_extension": ".py",
   "mimetype": "text/x-python",
   "name": "python",
   "nbconvert_exporter": "python",
   "pygments_lexer": "ipython3",
   "version": "3.6.8"
  },
  "toc": {
   "colors": {
    "hover_highlight": "#DAA520",
    "navigate_num": "#000000",
    "navigate_text": "#333333",
    "running_highlight": "#FF0000",
    "selected_highlight": "#FFD700",
    "sidebar_border": "#EEEEEE",
    "wrapper_background": "#FFFFFF"
   },
   "moveMenuLeft": true,
   "nav_menu": {
    "height": "63px",
    "width": "252px"
   },
   "navigate_menu": true,
   "number_sections": true,
   "sideBar": true,
   "threshold": 4,
   "toc_cell": false,
   "toc_section_display": "block",
   "toc_window_display": false,
   "widenNotebook": false
  }
 },
 "nbformat": 4,
 "nbformat_minor": 2
}
