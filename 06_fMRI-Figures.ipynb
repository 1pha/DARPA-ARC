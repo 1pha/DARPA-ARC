{
 "cells": [
  {
   "cell_type": "markdown",
   "metadata": {},
   "source": [
    "# DARPA-ARC Notebook 6: fMRI Figures"
   ]
  },
  {
   "cell_type": "markdown",
   "metadata": {},
   "source": [
    "## Figure 3: Mindboggle Parcellation"
   ]
  },
  {
   "cell_type": "code",
   "execution_count": null,
   "metadata": {
    "collapsed": false
   },
   "outputs": [],
   "source": [
    "import numpy as np\n",
    "from mne import read_label\n",
    "from surfer import Brain\n",
    "from seaborn import color_palette\n",
    "%matplotlib qt4\n",
    "\n",
    "#~~~~~~~~~~~~~~~~~~~~~~~~~~~~~~~~~~~~~~~~~~~~~~~~~#\n",
    "### Define parameters.\n",
    "#~~~~~~~~~~~~~~~~~~~~~~~~~~~~~~~~~~~~~~~~~~~~~~~~~#\n",
    "\n",
    "## I/O parameters.\n",
    "fs_dir = '/space/lilli/1/users/DARPA-Recons'\n",
    "subject = 'fsaverage'\n",
    "surface = 'inflated'\n",
    "hemi = 'lh'\n",
    "\n",
    "## Label paramaters.\n",
    "label_dir = '/space/lilli/1/users/DARPA-Recons/fscopy/label/dkt40'\n",
    "roi_list = ['caudalanteriorcingulate', 'rostralanteriorcingulate', 'posteriorcingulate',\n",
    "            'superiorfrontal', 'medialorbitofrontal', 'rostralmiddlefrontal', 'caudalmiddlefrontal',\n",
    "            'parsopercularis', 'parstriangularis', 'parsorbitalis', 'lateralorbitofrontal', 'insula']\n",
    "\n",
    "colors = [[0.78329874347238, 0.687243385525311, 0.8336793640080622],\n",
    "          [0.1257208769520124, 0.47323337360924367, 0.707327968232772],\n",
    "            [0.999907727802501, 0.5009919264737298, 0.005121107311809869],\n",
    "          [0.21171857311445125, 0.6332641510402455, 0.1812226118410335],\n",
    "          [0.6941176652908325, 0.3490196168422699, 0.1568627506494522],\n",
    "          [0.42485198495434734, 0.2511495584950722, 0.6038600774372326],\n",
    "          [0.983206460055183, 0.5980161709820524, 0.5942330108845937],\n",
    "          [0.9917570170234231, 0.7464821371669862, 0.4340176893507733],\n",
    "          [0.8905959311653586, 0.10449827132271793, 0.111080354627441],\n",
    "          [0.9976009228650261, 0.9948942715046452, 0.5965244373854468],\n",
    "          [0.6889965575115352, 0.8681737867056154, 0.5437601194662207],\n",
    "          [0.6509804129600525, 0.8078431487083435, 0.8901960849761963]]\n",
    "\n",
    "#~~~~~~~~~~~~~~~~~~~~~~~~~~~~~~~~~~~~~~~~~~~~~~~~~#\n",
    "### Visualize brain.\n",
    "#~~~~~~~~~~~~~~~~~~~~~~~~~~~~~~~~~~~~~~~~~~~~~~~~~#\n",
    "\n",
    "## Load labels.\n",
    "roi_list = [read_label('%s/%s-%s.label' %(label_dir,roi,hemi), subject=subject) for roi in roi_list]\n",
    "\n",
    "## Make brain.\n",
    "brain = Brain(subject, hemi, surface, background='white', subjects_dir=fs_dir)\n",
    "for roi, color in zip(roi_list, colors): brain.add_label(roi, color=color)\n",
    "for view in ['medial','lateral']:\n",
    "    brain.show_view(view)\n",
    "    brain.save_image('plots/FINAL/mindboggle_%s.png' %view)"
   ]
  },
  {
   "cell_type": "markdown",
   "metadata": {},
   "source": [
    "## Figure 6: 6-panel Deliberation Map"
   ]
  },
  {
   "cell_type": "code",
   "execution_count": null,
   "metadata": {
    "collapsed": false
   },
   "outputs": [],
   "source": [
    "import os, time\n",
    "import numpy as np\n",
    "from surfer import Brain\n",
    "%matplotlib qt4\n",
    "\n",
    "fs_dir = 'recons'\n",
    "img_dir = 'plots/FINAL2/manuscript'\n",
    "\n",
    "#~~~~~~~~~~~~~~~~~~~~~~~~~~~~~~~~~~~~~~~~~~~~~~~~~~~~~~~~~~~~#\n",
    "### Define parameters.\n",
    "#~~~~~~~~~~~~~~~~~~~~~~~~~~~~~~~~~~~~~~~~~~~~~~~~~~~~~~~~~~~~#\n",
    "\n",
    "\n",
    "## I/O parameters.\n",
    "sm = 6\n",
    "fd = 0.9\n",
    "contrast = 'Delib'\n",
    "overlay = 'psc'\n",
    "\n",
    "## Pysurfer parameters.\n",
    "surface = 'inflated'\n",
    "views = ['lateral','medial']\n",
    "size = (1200,800)\n",
    "bg_color = 'black'\n",
    "\n",
    "fmin = 0.04 # min value\n",
    "fmax = 0.20 # max value\n",
    "\n",
    "## Label parameters.\n",
    "label_dir = 'fmri_second_levels/labels/seeds_%s' %contrast\n",
    "labels = ['dacc', 'dlpfc', 'insula', 'mcc', 'pre_sma']\n",
    "label_color = 'k'\n",
    "\n",
    "#~~~~~~~~~~~~~~~~~~~~~~~~~~~~~~~~~~~~~~~~~~~~~~~~~~~~~~~~~~~~#\n",
    "### Plot.\n",
    "#~~~~~~~~~~~~~~~~~~~~~~~~~~~~~~~~~~~~~~~~~~~~~~~~~~~~~~~~~~~~#\n",
    "\n",
    "## Initialize brain.\n",
    "brains = Brain(\"fsaverage\", 'split', surface, views=views, size=size,\n",
    "              background=bg_color, subjects_dir=fs_dir)\n",
    "\n",
    "## Add overlay.\n",
    "for hemi in ['lh','rh']:\n",
    "    f = os.path.join('fmri_second_levels', 'FINAL2.%s.%s.%s.%s' %(sm, fd, hemi, contrast), '%s.nii.gz' %overlay)\n",
    "    brains.add_overlay(f, min=fmin, max=fmax, sign=\"pos\", hemi=hemi)\n",
    "    \n",
    "## Add labels.\n",
    "# for label in labels:\n",
    "#     for hemi in ['lh','rh']:\n",
    "#         f = os.path.join(label_dir, 'fig_%s-%s.label' %(label,hemi))\n",
    "#         brains.add_label(f, color=label_color, borders=True, hemi=hemi)\n",
    "    \n",
    "## Update views.\n",
    "brains.set_distance(300)\n",
    "brains.hide_colorbar(0,0)\n",
    "brains.hide_colorbar()\n",
    "\n",
    "time.sleep(5)\n",
    "if not os.path.isdir(img_dir): os.makedirs(img_dir)\n",
    "brains.save_image(os.path.join(img_dir, 'delib_surface.png'))"
   ]
  },
  {
   "cell_type": "markdown",
   "metadata": {},
   "source": [
    "## Figure 7: 3-panel Delibmod"
   ]
  },
  {
   "cell_type": "code",
   "execution_count": null,
   "metadata": {
    "collapsed": false
   },
   "outputs": [],
   "source": [
    "import os, time\n",
    "import numpy as np\n",
    "from surfer import Brain\n",
    "%matplotlib qt4\n",
    "\n",
    "fs_dir = 'recons'\n",
    "img_dir = 'plots/FINAL2/manuscript'\n",
    "\n",
    "#~~~~~~~~~~~~~~~~~~~~~~~~~~~~~~~~~~~~~~~~~~~~~~~~~~~~~~~~~~~~#\n",
    "### Define parameters.\n",
    "#~~~~~~~~~~~~~~~~~~~~~~~~~~~~~~~~~~~~~~~~~~~~~~~~~~~~~~~~~~~~#\n",
    "\n",
    "## I/O parameters.\n",
    "sm = 6\n",
    "fd = 0.9\n",
    "contrast = 'DelibMod'\n",
    "overlay = 'psc'\n",
    "\n",
    "## Pysurfer parameters.\n",
    "surface = 'pial'\n",
    "size = (800,400)\n",
    "bg_color = 'black'\n",
    "\n",
    "fmin = 1e-6 # min value\n",
    "fmax = 0.10 # max value\n",
    "\n",
    "#~~~~~~~~~~~~~~~~~~~~~~~~~~~~~~~~~~~~~~~~~~~~~~~~~~~~~~~~~~~~#\n",
    "### Plot.\n",
    "#~~~~~~~~~~~~~~~~~~~~~~~~~~~~~~~~~~~~~~~~~~~~~~~~~~~~~~~~~~~~#\n",
    "\n",
    "hemis = ['lh','rh','rh']\n",
    "views = ['lateral','lateral','medial']\n",
    "params = [dict(azimuth=150, roll=90),dict(azimuth=30, roll=270),dict(azimuth=180, roll=90)]\n",
    "distances = [280,280,280]\n",
    "\n",
    "for hemi, view, param, dist in zip(hemis,views,params,distances):\n",
    "\n",
    "    ## Initialize brain.\n",
    "    brain = Brain(\"fsaverage\", hemi, surface, views=[view], size=size,\n",
    "                  background=bg_color, subjects_dir=fs_dir)\n",
    "\n",
    "    ## Add overlay.\n",
    "    f = os.path.join('fmri_second_levels', 'FINAL2.%s.%s.%s.%s' %(sm, fd, hemi, contrast), '%s.nii.gz' %overlay)\n",
    "    brain.add_overlay(f, min=fmin, max=fmax, sign=\"pos\", hemi=hemi)\n",
    "    \n",
    "    ## Update views.\n",
    "    brain.show_view(param)\n",
    "    brain.set_distance(dist)\n",
    "    brain.hide_colorbar()\n",
    "    time.sleep(5)\n",
    "    brain.save_image(os.path.join(img_dir, 'delibmod_%s_%s.png' %(hemi,view)))\n",
    "    \n",
    "print 'Done.'"
   ]
  },
  {
   "cell_type": "markdown",
   "metadata": {},
   "source": [
    "### Pysurfer Colorbar"
   ]
  },
  {
   "cell_type": "code",
   "execution_count": null,
   "metadata": {
    "collapsed": false
   },
   "outputs": [],
   "source": [
    "import os \n",
    "import numpy as np\n",
    "from surfer import Brain\n",
    "%matplotlib qt4\n",
    "\n",
    "fs_dir = '/space/lilli/1/users/DARPA-Recons'\n",
    "img_dir = 'plots/FINAL'\n",
    "\n",
    "#~~~~~~~~~~~~~~~~~~~~~~~~~~~~~~~~~~~~~~~~~~~~~~~~~~~~~~~~~~~~#\n",
    "### Define parameters.\n",
    "#~~~~~~~~~~~~~~~~~~~~~~~~~~~~~~~~~~~~~~~~~~~~~~~~~~~~~~~~~~~~#\n",
    "\n",
    "## Pysurfer parameters.\n",
    "size = (1200,800)\n",
    "bg_color = 'black'\n",
    "\n",
    "fmin = 0.00 # min value\n",
    "fmax = 0.20 # max value\n",
    "\n",
    "#~~~~~~~~~~~~~~~~~~~~~~~~~~~~~~~~~~~~~~~~~~~~~~~~~~~~~~~~~~~~#\n",
    "### Plot.\n",
    "#~~~~~~~~~~~~~~~~~~~~~~~~~~~~~~~~~~~~~~~~~~~~~~~~~~~~~~~~~~~~#\n",
    "\n",
    "## Initialize brain.\n",
    "brains = Brain(\"fsaverage\", 'lh', 'inflated', size=size,\n",
    "              background=bg_color, subjects_dir=fs_dir)\n",
    "\n",
    "## Add overlay.    \n",
    "f = 'fmri_second_levels/FINAL2.6.0.9.lh.Delib/psc.nii.gz'\n",
    "brains.add_overlay(f, min=fmin, max=fmax, sign=\"pos\")"
   ]
  }
 ],
 "metadata": {
  "kernelspec": {
   "display_name": "Python 3",
   "language": "python",
   "name": "python3"
  },
  "language_info": {
   "codemirror_mode": {
    "name": "ipython",
    "version": 3
   },
   "file_extension": ".py",
   "mimetype": "text/x-python",
   "name": "python",
   "nbconvert_exporter": "python",
   "pygments_lexer": "ipython3",
   "version": "3.7.1"
  },
  "nav_menu": {},
  "toc": {
   "colors": {
    "hover_highlight": "#DAA520",
    "navigate_num": "#000000",
    "navigate_text": "#333333",
    "running_highlight": "#FF0000",
    "selected_highlight": "#FFD700",
    "sidebar_border": "#EEEEEE",
    "wrapper_background": "#FFFFFF"
   },
   "moveMenuLeft": true,
   "nav_menu": {
    "height": "189px",
    "width": "252px"
   },
   "navigate_menu": true,
   "number_sections": false,
   "sideBar": true,
   "threshold": 4,
   "toc_cell": false,
   "toc_section_display": "block",
   "toc_window_display": true,
   "widenNotebook": false
  },
  "toc_position": {
   "height": "827px",
   "left": "0px",
   "right": "auto",
   "top": "106px",
   "width": "212px"
  }
 },
 "nbformat": 4,
 "nbformat_minor": 2
}
