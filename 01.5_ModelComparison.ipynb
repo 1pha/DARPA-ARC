{
 "cells": [
  {
   "cell_type": "markdown",
   "metadata": {},
   "source": [
    "# Install LOO Package\n",
    "Run after first installing [r-essentials](https://conda.io/docs/r-with-conda.html) through the Anaconda distribution.  Then install the [LOO package](http://mc-stan.org/interfaces/loo)."
   ]
  },
  {
   "cell_type": "code",
   "execution_count": null,
   "metadata": {
    "collapsed": false
   },
   "outputs": [],
   "source": [
    "install.packages('loo')"
   ]
  },
  {
   "cell_type": "markdown",
   "metadata": {},
   "source": [
    "# Model: Non-Hierarchical - Additive"
   ]
  },
  {
   "cell_type": "code",
   "execution_count": null,
   "metadata": {
    "collapsed": false
   },
   "outputs": [],
   "source": [
    "library('loo')\n",
    "print('Model: Non-Hierarchical, Additive')\n",
    "\n",
    "## Load data.\n",
    "loglike = as.matrix(read.table('stan_results/arc_non-hierarchical_add_FINAL2_loglik.txt', sep=\" \"))\n",
    "print(waic(loglike))\n",
    "print(loo(loglike))"
   ]
  },
  {
   "cell_type": "markdown",
   "metadata": {},
   "source": [
    "# Model: Hierarchical - Additive"
   ]
  },
  {
   "cell_type": "code",
   "execution_count": null,
   "metadata": {
    "collapsed": false
   },
   "outputs": [],
   "source": [
    "library('loo')\n",
    "print('Model: Hierarchical, Additive')\n",
    "\n",
    "## Load data.\n",
    "loglike = as.matrix(read.table('stan_results/arc_hierarchical_add_FINAL2_loglik.txt', sep=\" \"))\n",
    "print(waic(loglike))\n",
    "print(loo(loglike))"
   ]
  },
  {
   "cell_type": "markdown",
   "metadata": {},
   "source": [
    "# Model: Hierarchical - Multiplicative"
   ]
  },
  {
   "cell_type": "code",
   "execution_count": null,
   "metadata": {
    "collapsed": false
   },
   "outputs": [],
   "source": [
    "library('loo')\n",
    "print('Model: Hierarchical, Multiple')\n",
    "\n",
    "## Load data.\n",
    "loglike = as.matrix(read.table('stan_results/arc_hierarchical_mult_FINAL2_loglik.txt', sep=\" \"))\n",
    "print(waic(loglike))\n",
    "print(loo(loglike))"
   ]
  }
 ],
 "metadata": {
  "kernelspec": {
   "display_name": "Python 3",
   "language": "python",
   "name": "python3"
  },
  "language_info": {
   "codemirror_mode": {
    "name": "ipython",
    "version": 3
   },
   "file_extension": ".py",
   "mimetype": "text/x-python",
   "name": "python",
   "nbconvert_exporter": "python",
   "pygments_lexer": "ipython3",
   "version": "3.7.1"
  },
  "nav_menu": {},
  "toc": {
   "colors": {
    "hover_highlight": "#DAA520",
    "running_highlight": "#FF0000",
    "selected_highlight": "#FFD700"
   },
   "moveMenuLeft": true,
   "nav_menu": {
    "height": "66px",
    "width": "252px"
   },
   "navigate_menu": true,
   "number_sections": false,
   "sideBar": true,
   "threshold": 6,
   "toc_cell": false,
   "toc_section_display": "block",
   "toc_window_display": true
  }
 },
 "nbformat": 4,
 "nbformat_minor": 2
}
